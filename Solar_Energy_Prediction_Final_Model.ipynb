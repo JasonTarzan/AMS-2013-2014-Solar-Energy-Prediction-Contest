{
 "cells": [
  {
   "cell_type": "markdown",
   "metadata": {},
   "source": [
    "# [AMS-2013-2014-Solar-Energy-Prediction-Contest](https://www.kaggle.com/c/ams-2014-solar-energy-prediction-contest/data)"
   ]
  },
  {
   "cell_type": "code",
   "execution_count": 1,
   "metadata": {},
   "outputs": [],
   "source": [
    "#importing libraries\n",
    "import netCDF4\n",
    "import pandas as pd\n",
    "import numpy as np\n",
    "import datetime as dt\n",
    "import matplotlib.pyplot as plt\n",
    "from tensorflow.keras.models import model_from_json\n",
    "from tensorflow.keras.models import Model,Sequential\n",
    "from tensorflow.keras.layers import Input, Dense, Conv2D, Flatten, Concatenate, AveragePooling2D,GaussianNoise,MaxPooling2D\n",
    "from tensorflow.keras import backend as K\n",
    "from tensorflow.keras.utils import plot_model\n",
    "from tensorflow.keras.initializers import glorot_normal\n",
    "from sklearn import preprocessing\n",
    "from scipy.stats import pearsonr\n",
    "import os\n",
    "from tqdm import tqdm_notebook\n",
    "from sklearn.metrics import max_error,mean_absolute_error\n",
    "import pysolar as ps\n",
    "import datetime as dt\n",
    "import pvlib\n",
    "\n",
    "import warnings\n",
    "warnings.filterwarnings(\"ignore\")"
   ]
  },
  {
   "cell_type": "code",
   "execution_count": 2,
   "metadata": {},
   "outputs": [],
   "source": [
    "def radiation(latitude_deg,longitude_deg,elevation,y,m,d):\n",
    "    \"\"\"\n",
    "    this function return solar_energy values extracted using pvlib\n",
    "    \"\"\"\n",
    "    base = dt.datetime(y[0],m[0],d[0],1)\n",
    "    times_index = [base + dt.timedelta(hours=x) for x in range(24*len(d))]\n",
    "    times_index = pd.DatetimeIndex(times_index)\n",
    "    \n",
    "    sand_point = pvlib.location.Location(latitude,longitude, tz='UTC',altitude=elevation)\n",
    "\n",
    "    solpos = pvlib.solarposition.get_solarposition(times_index, sand_point.latitude, sand_point.longitude)\n",
    "\n",
    "    dni_extra = pvlib.irradiance.extraradiation(times_index)\n",
    "    dni_extra = pd.Series(dni_extra, index=times_index)\n",
    "\n",
    "    airmass_rel = pvlib.atmosphere.relativeairmass(solpos['apparent_zenith'])\n",
    "    airmass_abs = pvlib.atmosphere.absoluteairmass(airmass_rel)\n",
    "\n",
    "    linke_turbidity=pvlib.clearsky.lookup_linke_turbidity(times_index, latitude=latitude, longitude=longitude, filepath=None, interp_turbidity=True)\n",
    "    tmy_data=pvlib.clearsky.ineichen(solpos['apparent_zenith'], airmass_abs, linke_turbidity=linke_turbidity, altitude=elevation, dni_extra=dni_extra)\n",
    "    tmy_data['day'] = tmy_data.index\n",
    "    tmy_data['day'] = tmy_data['day'].apply(lambda x:x.strftime('%Y-%m-%d'))\n",
    "    tmy_data = tmy_data.groupby('day').sum()\n",
    "    \n",
    "    return(tmy_data.values)"
   ]
  },
  {
   "cell_type": "code",
   "execution_count": 3,
   "metadata": {},
   "outputs": [],
   "source": [
    "def create_model(shape_1,shape_2):\n",
    "    \"\"\"\n",
    "    CNN 2 inputs model\n",
    "    \"\"\"\n",
    "    input_shape_1 = (shape_1[2],shape_1[3],shape_1[4]) #1st NetCDF input values\n",
    "    inputs = list([])\n",
    "    k = list([])\n",
    "    var = ['apcp_sfc','dlwrf_sfc','dswrf_sfc','pres_msl','pwat_eatm','spfh_2m','tcdc_eatm','tcolc_eatm',\n",
    "            'tmax_2m','tmin_2m','tmp_2m','tmp_sfc','ulwrf_sfc','ulwrf_tatm','uswrf_sfc']\n",
    "    for v in var:\n",
    "        a1 = Input(shape=input_shape_1,name='{}_input'.format(v))\n",
    "        inputs.append(a1)\n",
    "        #a2 = Conv3D( filters=16,kernel_size=(1,2,2),activation='relu',input_shape=(input_shape))(a1)\n",
    "        a2 = Conv2D(filters=16,kernel_size=(3),activation='relu',kernel_initializer=glorot_normal())(a1)\n",
    "        a2_noise = GaussianNoise(0.2)(a2)\n",
    "        #a2_pool= AveragePooling3D(1,1)(a2_noise)\n",
    "        a2_pool= AveragePooling2D((2))(a2_noise)\n",
    "        a3 = Conv2D( filters=32,kernel_size=(1,2),activation='relu',kernel_initializer=glorot_normal())(a2_pool)\n",
    "        #a3 = Conv3D( filters=32,kernel_size=(1,1,2),activation='relu',input_shape=(input_shape))(a2_pool)\n",
    "        a4 = Flatten()(a3)\n",
    "        a5 = Dense(100,activation='relu',kernel_initializer=glorot_normal())(a4)\n",
    "        a6 = Dense(50,activation='relu',kernel_initializer=glorot_normal())(a5)\n",
    "        k.append(a6)\n",
    "    \n",
    "    b1 = Input(shape=(shape_2[1],),name='aux_input') #second input for solar values\n",
    "    \n",
    "    l= Concatenate()(k)\n",
    "    m1 = Dense(100,activation='relu',kernel_initializer=glorot_normal())(l)\n",
    "    m2 = Dense(50,activation='relu',kernel_initializer=glorot_normal())(m1)\n",
    "    \n",
    "    \n",
    "    l1= Concatenate()([m2,b1])\n",
    "    l2 = Dense(20,activation='relu',kernel_initializer=glorot_normal())(l1)\n",
    "    out = Dense(1,activation='linear',kernel_initializer=glorot_normal())(l2)\n",
    "\n",
    "    \n",
    "    model = Model(inputs=[inputs,b1], outputs=out)\n",
    "    model.compile('Adam',loss='mean_absolute_error',metrics=['mae'])\n",
    "    return(model)\n",
    "\n",
    "\n",
    "class StackingAverageModels():\n",
    "    \"\"\"\n",
    "    stacking all models\n",
    "    \"\"\"\n",
    "    def __init__(self,shape_1,shape_2):\n",
    "        self.base_models = [create_model(shape_1,shape_2) for _ in range(11)]\n",
    "        self.histories = []\n",
    "    \n",
    "    def fit(self,X_train,h_train,y_train,X_test,h_test,y_test):\n",
    "        for k,model in tqdm_notebook(enumerate(self.base_models)):\n",
    "            x_train = X_train[k].copy()\n",
    "            x_train.append(h_train)\n",
    "            x_test = X_test[k].copy()\n",
    "            x_test.append(h_test)\n",
    "            history = model.fit(x_train,y_train,epochs=25,batch_size=25,validation_data=(x_test,y_test),verbose=0)\n",
    "            self.histories.append(history)\n",
    "            \n",
    "    def predict(self,X,h):\n",
    "        s = []\n",
    "        for k,model in enumerate(self.base_models):\n",
    "            x = X[k].copy()\n",
    "            x.append(h)\n",
    "            pred = model.predict(x)\n",
    "            pred[pred<0] = 0\n",
    "            s.append(pred)\n",
    "            \n",
    "        return(np.sum(s,axis=0)/len(self.base_models))"
   ]
  },
  {
   "cell_type": "code",
   "execution_count": 4,
   "metadata": {},
   "outputs": [],
   "source": [
    "max_value = 4*(10**7) #max predicted value\n",
    "    \n",
    "df = pd.read_csv('ams-2014-solar-energy-prediction-contest/station_info.csv')\n",
    "df_target = pd.read_csv('ams-2014-solar-energy-prediction-contest/train.csv')"
   ]
  },
  {
   "cell_type": "code",
   "execution_count": 5,
   "metadata": {},
   "outputs": [],
   "source": [
    "dates = df_target['Date'].values\n",
    "year = np.array(list(map(lambda x:int(str(x)[:4]),dates)))\n",
    "month = np.array(list(map(lambda x:int(str(x)[4:6]),dates)))\n",
    "months = month/12\n",
    "day = np.array(list(map(lambda x:int(str(x)[6:]),dates)))\n",
    "\n",
    "#splitting train and evaluation dataset\n",
    "train_index = np.argwhere(year<=2004).flatten()\n",
    "test_index = np.argwhere(year>2004).flatten() \n",
    "\n",
    "\n",
    "df_pred = pd.read_csv('ams-2014-solar-energy-prediction-contest/sampleSubmission.csv')\n",
    "cols = df_pred.columns    \n",
    "\n",
    "dates_pred = df_pred['Date'].values\n",
    "year_pred = np.array(list(map(lambda x:int(str(x)[:4]),dates_pred)))\n",
    "month_pred = np.array(list(map(lambda x:int(str(x)[4:6]),dates_pred)))\n",
    "months_pred = month_pred/12\n",
    "day_pred = np.array(list(map(lambda x:int(str(x)[6:]),dates_pred)))\n",
    "\n",
    "hours = np.array(list(range(0,24)))"
   ]
  },
  {
   "cell_type": "code",
   "execution_count": 6,
   "metadata": {},
   "outputs": [],
   "source": [
    "# df_final = pd.DataFrame(columns=cols)\n",
    "# df_final['Date'] = dates_pred"
   ]
  },
  {
   "cell_type": "code",
   "execution_count": 7,
   "metadata": {},
   "outputs": [
    {
     "name": "stdout",
     "output_type": "stream",
     "text": [
      "\n",
      "Loading x_values......\n",
      "\n"
     ]
    }
   ],
   "source": [
    "print()\n",
    "print('Loading x_values......')\n",
    "print()\n",
    "\n",
    "\n",
    "directory = np.sort(os.listdir(\"ams-2014-solar-energy-prediction-contest/train/\"))\n",
    "method_dataset = []\n",
    "\n",
    "scaler_data = [preprocessing.MinMaxScaler() for _ in range(len(directory))]  #normalizing values"
   ]
  },
  {
   "cell_type": "code",
   "execution_count": 8,
   "metadata": {},
   "outputs": [
    {
     "name": "stdout",
     "output_type": "stream",
     "text": [
      "training_data......\n",
      "\n"
     ]
    },
    {
     "data": {
      "application/vnd.jupyter.widget-view+json": {
       "model_id": "9aa1c86771064c5da2bcbc3fb7ea037e",
       "version_major": 2,
       "version_minor": 0
      },
      "text/plain": [
       "HBox(children=(IntProgress(value=0, max=11), HTML(value='')))"
      ]
     },
     "metadata": {},
     "output_type": "display_data"
    },
    {
     "name": "stdout",
     "output_type": "stream",
     "text": [
      "\n"
     ]
    }
   ],
   "source": [
    "#importing training dataset\n",
    "\n",
    "print('training_data......')\n",
    "print()\n",
    "\n",
    "\n",
    "for method in tqdm_notebook(range(11)):\n",
    "\n",
    "    dataset = []\n",
    "    for k,file in enumerate(directory):\n",
    "        nc_fid = netCDF4.Dataset(\"ams-2014-solar-energy-prediction-contest/train/{}\".format(file),'r')\n",
    "        var = list(nc_fid.variables.keys())[-1]\n",
    "        data = np.array(nc_fid.variables[var][:])\n",
    "        data = data[:,method,:,:,:]\n",
    "        data = data.reshape(data.shape[0],data.shape[1],data.shape[2],data.shape[3])\n",
    "        #data = scaling(data)\n",
    "        #########\n",
    "        nsamples, n_1,n_2,n_3 = data.shape\n",
    "        data = data.flatten().reshape((nsamples,n_1*n_2*n_3))\n",
    "        if method == 0:\n",
    "            scaler_data[k].fit(data)\n",
    "        data = scaler_data[k].transform(data)\n",
    "        data = data.flatten().reshape((nsamples,n_1,n_2,n_3))\n",
    "        ########\n",
    "        data = np.array(data.reshape(-1,data.shape[1],data.shape[2],data.shape[3]))\n",
    "        dataset.append(data)\n",
    "\n",
    "    method_dataset.append(dataset)"
   ]
  },
  {
   "cell_type": "code",
   "execution_count": 9,
   "metadata": {},
   "outputs": [
    {
     "name": "stdout",
     "output_type": "stream",
     "text": [
      "prediction data......\n",
      "\n"
     ]
    },
    {
     "data": {
      "application/vnd.jupyter.widget-view+json": {
       "model_id": "4e2a1f9724e54653b26a8e68692e6e81",
       "version_major": 2,
       "version_minor": 0
      },
      "text/plain": [
       "HBox(children=(IntProgress(value=0, max=11), HTML(value='')))"
      ]
     },
     "metadata": {},
     "output_type": "display_data"
    },
    {
     "name": "stdout",
     "output_type": "stream",
     "text": [
      "\n"
     ]
    }
   ],
   "source": [
    "#importing test dataset\n",
    "\n",
    "print('prediction data......')\n",
    "print()\n",
    "\n",
    "directory_2 = np.sort(os.listdir(\"ams-2014-solar-energy-prediction-contest/test/\"))\n",
    "method_pred_dataset = []\n",
    "\n",
    "for method in tqdm_notebook(range(11)):\n",
    "\n",
    "    dataset = []\n",
    "    for k,file in enumerate(directory_2):\n",
    "        nc_fid = netCDF4.Dataset(\"ams-2014-solar-energy-prediction-contest/test/{}\".format(file),'r')\n",
    "        var = list(nc_fid.variables.keys())[-1]\n",
    "        data = np.array(nc_fid.variables[var][:])\n",
    "        data = data[:,method,:,:,:]\n",
    "        data = data.reshape(data.shape[0],data.shape[1],data.shape[2],data.shape[3])\n",
    "        #data = scaling(data)\n",
    "        ###########\n",
    "        nsamples, n_1,n_2,n_3 = data.shape\n",
    "        data = data.flatten().reshape((nsamples,n_1*n_2*n_3))\n",
    "        data = scaler_data[k].transform(data)\n",
    "        data = data.flatten().reshape((nsamples,n_1,n_2,n_3))\n",
    "        ############\n",
    "        data = np.array(data.reshape(-1,data.shape[1],data.shape[2],data.shape[3]))\n",
    "        dataset.append(data)\n",
    "\n",
    "    method_pred_dataset.append(dataset)\n",
    "\n",
    "\n",
    "method_train_dataset = [[var[[train_index]].reshape(len(train_index),5,9,16) for var in model] for model in method_dataset]\n",
    "method_test_dataset = [[var[[test_index]].reshape(len(test_index),5,9,16) for var in model] for model in method_dataset]\n",
    "shape_1 = np.array(method_train_dataset[0]).shape   \n",
    "\n",
    "######################################################     \n",
    "#solar stations want to perform the prediction\n",
    "offset = 0     \n",
    "stations = 1  "
   ]
  },
  {
   "cell_type": "code",
   "execution_count": 10,
   "metadata": {},
   "outputs": [
    {
     "data": {
      "application/vnd.jupyter.widget-view+json": {
       "model_id": "0905d11fcad34695a42bc299f9fd8425",
       "version_major": 2,
       "version_minor": 0
      },
      "text/plain": [
       "HBox(children=(IntProgress(value=0, max=1), HTML(value='')))"
      ]
     },
     "metadata": {},
     "output_type": "display_data"
    },
    {
     "name": "stdout",
     "output_type": "stream",
     "text": [
      "\n",
      "STATION: ACME\n",
      "\n",
      "Loading h_values.......\n",
      "\n",
      "training CNN........\n",
      "\n"
     ]
    },
    {
     "data": {
      "application/vnd.jupyter.widget-view+json": {
       "model_id": "944e5acef7a8425b86a6a66a24918271",
       "version_major": 2,
       "version_minor": 0
      },
      "text/plain": [
       "HBox(children=(IntProgress(value=1, bar_style='info', max=1), HTML(value='')))"
      ]
     },
     "metadata": {},
     "output_type": "display_data"
    },
    {
     "name": "stdout",
     "output_type": "stream",
     "text": [
      "MAE: 0.050102964789939336\n",
      "\n",
      "Calculating final predictions........\n",
      "\n",
      "\n"
     ]
    }
   ],
   "source": [
    "for station in tqdm_notebook(df['stid'].values[offset:stations]):\n",
    "\n",
    "    print()\n",
    "    print('STATION: {}'.format(station))\n",
    "    print()\n",
    "\n",
    "    latitude = df[df['stid']==station]['nlat'].values[0]\n",
    "    longitude = df[df['stid']==station]['elon'].values[0]\n",
    "    elevation = df[df['stid']==station]['elev'].values[0]\n",
    "\n",
    "\n",
    "    target = np.array(df_target[station].values)/max_value\n",
    "    #scaler = preprocessing.MinMaxScaler()\n",
    "    #scaler.fit(target.reshape((target.shape[0],-1)))\n",
    "    #target = scaler.transform(target.reshape((target.shape[0],-1)))\n",
    "\n",
    "    print('Loading h_values.......')\n",
    "    print()\n",
    "\n",
    "\n",
    "\n",
    "    rad = radiation(latitude,longitude,elevation,year,month,day)\n",
    "    rad = np.array(rad)/10000\n",
    "    #scaler_2 = preprocessing.MinMaxScaler()\n",
    "    #rad = scaler_2.fit_transform(rad)\n",
    "\n",
    "\n",
    "    y_train,y_test = target[train_index],target[test_index]\n",
    "    h_train,h_test = np.array(list(zip(months[train_index],rad[train_index]))),np.array(list(zip(months[test_index],rad[test_index])))\n",
    "\n",
    "    r = [[x for x in h[1]] for h in h_train]\n",
    "    for i in range(len(r)):\n",
    "        r[i].append(h_train[i][0])\n",
    "    h_train = np.array(r)\n",
    "\n",
    "    r = [[x for x in h[1]] for h in h_test]\n",
    "    for i in range(len(r)):\n",
    "        r[i].append(h_test[i][0])\n",
    "    h_test = np.array(r)\n",
    "\n",
    "    shape_2 = np.array(h_test).shape\n",
    "\n",
    "    print('training CNN........')\n",
    "    print()\n",
    "\n",
    "    stacked_averaged_models = StackingAverageModels(shape_1,shape_2)\n",
    "    stacked_averaged_models.fit(method_train_dataset,h_train,y_train,method_test_dataset,h_test,y_test)\n",
    "\n",
    "    #y = y_test[:,0]\n",
    "    y = y_test\n",
    "    predicted = stacked_averaged_models.predict(method_test_dataset,h_test)[:,0]\n",
    "\n",
    "    print('MAE: {}'.format(mean_absolute_error(predicted,y)))\n",
    "    print()\n",
    "\n",
    "\n",
    "    print('Calculating final predictions........')\n",
    "    print()\n",
    "\n",
    "    rad_pred = radiation(latitude,longitude,elevation,year_pred,month_pred,day_pred)\n",
    "    rad_pred = np.array(rad_pred)/10000\n",
    "    #scaler_2 = preprocessing.MinMaxScaler()\n",
    "    #rad_pred = scaler_2.fit_transform(rad)\n",
    "\n",
    "\n",
    "    h_pred = np.array(list(zip(months_pred,rad_pred)))\n",
    "    r = [[x for x in h[1]] for h in h_pred]\n",
    "    for i in range(len(r)):\n",
    "        r[i].append(h_pred[i][0])\n",
    "    h_pred = np.array(r)\n",
    "\n",
    "\n",
    "    final_predicted = stacked_averaged_models.predict(method_pred_dataset,h_pred)[:,0]\n",
    "    #final_predicted = scaler.inverse_transform(final_predicted.reshape(final_predicted.shape[0],-1))\n",
    "    #df_final[station] = final_predicted*max_value\n",
    "    #df_final.to_csv('submission.csv',index=False)\n",
    "        \n",
    "    #del stacked_averaged_models\n",
    "    #del scaler\n",
    "\n",
    "#df_final.to_csv('submission.csv',index=False)\n"
   ]
  },
  {
   "cell_type": "code",
   "execution_count": 11,
   "metadata": {},
   "outputs": [],
   "source": [
    "final_predicted_real = final_predicted*max_value"
   ]
  },
  {
   "cell_type": "code",
   "execution_count": 12,
   "metadata": {},
   "outputs": [
    {
     "data": {
      "image/png": "[encoded data removed]",
      "text/plain": [
       "<Figure size 432x288 with 1 Axes>"
      ]
     },
     "metadata": {
      "needs_background": "light"
     },
     "output_type": "display_data"
    }
   ],
   "source": [
    "h = stacked_averaged_models.histories[1]\n",
    "plt.plot(h.history['mae'],label='training_sample')\n",
    "plt.plot(h.history['val_mae'],label='validation_sample')\n",
    "plt.ylabel('Normalized MeanAbsoluteError')\n",
    "plt.xlabel('Epoch')\n",
    "plt.title('Training History')\n",
    "plt.grid()\n",
    "plt.legend()\n",
    "plt.show()"
   ]
  },
  {
   "cell_type": "code",
   "execution_count": 13,
   "metadata": {},
   "outputs": [],
   "source": [
    "y_test = y_test\n",
    "y_train = y_train\n",
    "predicted_test = stacked_averaged_models.predict(method_test_dataset,h_test)[:,0]\n",
    "predicted_train = stacked_averaged_models.predict(method_train_dataset,h_train)[:,0]"
   ]
  },
  {
   "cell_type": "code",
   "execution_count": 14,
   "metadata": {},
   "outputs": [],
   "source": [
    "r_train = pearsonr(y_train,predicted_train)[0]\n",
    "r_test = pearsonr(y_test,predicted_test)[0]"
   ]
  },
  {
   "cell_type": "code",
   "execution_count": 15,
   "metadata": {},
   "outputs": [
    {
     "data": {
      "image/png": "[encoded data removed]",
      "text/plain": [
       "<Figure size 432x288 with 1 Axes>"
      ]
     },
     "metadata": {
      "needs_background": "light"
     },
     "output_type": "display_data"
    }
   ],
   "source": [
    "#fig, ax = plt.subplots()\n",
    "plt.scatter(y_test, predicted_test,c='b')\n",
    "#plt.scatter(y_train, predicted_train,'b')\n",
    "plt.plot([y.min(), y.max()], [y.min(), y.max()], 'k--', lw=4)\n",
    "plt.xlabel('Measured_Data')\n",
    "plt.ylabel('Predicted_Data')\n",
    "plt.grid()\n",
    "plt.text(0.6,0.1, \"R_coeff: {}\".format(round(r_test,2))) \n",
    "plt.show()"
   ]
  },
  {
   "cell_type": "code",
   "execution_count": 16,
   "metadata": {},
   "outputs": [
    {
     "data": {
      "text/plain": [
       "<matplotlib.legend.Legend at 0x7fe683563160>"
      ]
     },
     "execution_count": 16,
     "metadata": {},
     "output_type": "execute_result"
    },
    {
     "data": {
      "image/png": "[encoded data removed]",
      "text/plain": [
       "<Figure size 432x288 with 1 Axes>"
      ]
     },
     "metadata": {
      "needs_background": "light"
     },
     "output_type": "display_data"
    }
   ],
   "source": [
    "x = [dt.datetime(year[test_index[0]],month[test_index[0]],day[test_index[0]]) + dt.timedelta(days=i) for i in range(100)]\n",
    "plt.plot(x,predicted[:100]*max_value,linewidth=1,label='Predicted_Data')\n",
    "plt.plot(x,y[:100]*max_value,linewidth=1,label='Measured_Data')\n",
    "plt.gcf().autofmt_xdate()\n",
    "plt.xlabel('Date')\n",
    "plt.ylabel('Watts')\n",
    "plt.legend()"
   ]
  },
  {
   "cell_type": "code",
   "execution_count": null,
   "metadata": {},
   "outputs": [],
   "source": []
  }
 ],
 "metadata": {
  "kernelspec": {
   "display_name": "Python 3",
   "language": "python",
   "name": "python3"
  },
  "language_info": {
   "codemirror_mode": {
    "name": "ipython",
    "version": 3
   },
   "file_extension": ".py",
   "mimetype": "text/x-python",
   "name": "python",
   "nbconvert_exporter": "python",
   "pygments_lexer": "ipython3",
   "version": "3.7.3"
  }
 },
 "nbformat": 4,
 "nbformat_minor": 2
}
